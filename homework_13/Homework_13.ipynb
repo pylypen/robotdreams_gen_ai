{
 "cells": [
  {
   "cell_type": "code",
   "execution_count": 4,
   "id": "5d780674",
   "metadata": {},
   "outputs": [
    {
     "name": "stdout",
     "output_type": "stream",
     "text": [
      " > tts_models/multilingual/multi-dataset/xtts_v2 is already downloaded.\n",
      " > Using model: xtts\n",
      "[1] Synthesizing: The ocean stretches endlessly across the horizon, ...\n",
      " > Text splitted to sentences.\n",
      "['The ocean stretches endlessly across the horizon, its deep blue waves rising and falling in a soothing rhythm.', 'Beneath the surface lies a mysterious world full of vibrant coral reefs, ancient shipwrecks, and diverse marine life.']\n",
      " > Processing time: 38.040690898895264\n",
      " > Real-time factor: 2.3252384966308894\n",
      "[2] Synthesizing: Подорожі відкривають перед нами нові світи, культу...\n",
      " > Text splitted to sentences.\n",
      "['Подорожі відкривають перед нами нові світи, культури й враження.', 'Вони надихають, розширюють кругозір та дарують незабутні моменти, які залишаються з нами на все життя.']\n",
      " > Processing time: 43.91367983818054\n",
      " > Real-time factor: 2.2633906809407045\n",
      "✅ Synthesis complete!\n"
     ]
    }
   ],
   "source": [
    "import os\n",
    "import json\n",
    "from TTS.api import TTS\n",
    "\n",
    "def synthesize_xtts(json_path, speaker_wav, out_dir):\n",
    "    # Завантажуємо модель\n",
    "    tts = TTS(model_name=\"tts_models/multilingual/multi-dataset/xtts_v2\")\n",
    "\n",
    "    # Читаємо текст із JSON\n",
    "    with open(json_path, 'r', encoding='utf-8') as f:\n",
    "        data = json.load(f)\n",
    "\n",
    "    os.makedirs(out_dir, exist_ok=True)\n",
    "\n",
    "    for i, entry in enumerate(data):\n",
    "        text = entry[\"text\"]\n",
    "        output_path = os.path.join(out_dir, f\"output_{i+1}.wav\")\n",
    "\n",
    "        print(f\"[{i+1}] Synthesizing: {text[:50]}...\")\n",
    "        tts.tts_to_file(\n",
    "            text=text,\n",
    "            speaker_wav=speaker_wav,\n",
    "            language=\"en\",\n",
    "            file_path=output_path\n",
    "        )\n",
    "\n",
    "    print(\"✅ Synthesis complete!\")\n",
    "\n",
    "if __name__ == \"__main__\":\n",
    "    synthesize_xtts(\n",
    "        json_path=\"input.json\",\n",
    "        speaker_wav=\"The Magos extract.mp3\",\n",
    "        out_dir=\"output_audio\"\n",
    "    )"
   ]
  },
  {
   "cell_type": "code",
   "execution_count": null,
   "id": "ffd85e8f",
   "metadata": {},
   "outputs": [],
   "source": []
  }
 ],
 "metadata": {
  "kernelspec": {
   "display_name": "Python 3 (ipykernel)",
   "language": "python",
   "name": "python3"
  },
  "language_info": {
   "codemirror_mode": {
    "name": "ipython",
    "version": 3
   },
   "file_extension": ".py",
   "mimetype": "text/x-python",
   "name": "python",
   "nbconvert_exporter": "python",
   "pygments_lexer": "ipython3",
   "version": "3.11.5"
  }
 },
 "nbformat": 4,
 "nbformat_minor": 5
}
