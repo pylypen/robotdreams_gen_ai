{
 "cells": [
  {
   "cell_type": "code",
   "execution_count": 1,
   "id": "b927e52c",
   "metadata": {},
   "outputs": [],
   "source": [
    "from openai import OpenAI\n",
    "import os\n",
    "\n",
    "# API ключ\n",
    "os.environ[\"OPENAI_API_KEY\"] = \"********\"\n",
    "\n",
    "client = OpenAI()\n"
   ]
  },
  {
   "cell_type": "code",
   "execution_count": 2,
   "id": "dfc924d0",
   "metadata": {},
   "outputs": [],
   "source": [
    "# Обрана задача: пояснити термін \"квантовий комп'ютер\" простою мовою\n",
    "question = \"Що таке квантовий комп'ютер?\"\n",
    "\n",
    "# Zero-shot prompting\n",
    "zero_shot_prompt = f\"Поясни, що таке квантовий комп'ютер простою мовою.\"\n",
    "\n",
    "# Few-shot prompting\n",
    "few_shot_prompt = (\n",
    "    \"Поясни терміни простою мовою:\\n\"\n",
    "    \"- Гравітація — це сила, яка притягує все до Землі.\\n\"\n",
    "    \"- ДНК — це молекула, яка містить інформацію про те, як має виглядати і функціонувати організм.\\n\"\n",
    "    f\"Тепер поясни, що таке квантовий комп'ютер.\"\n",
    ")\n",
    "\n",
    "# Chain-of-thought prompting\n",
    "chain_of_thought_prompt = (\n",
    "    \"Щоб пояснити, що таке квантовий комп'ютер, спочатку з'ясуємо, як працює звичайний комп'ютер.\\n\"\n",
    "    \"1. Звичайний комп'ютер працює з бітами, які можуть бути 0 або 1.\\n\"\n",
    "    \"2. Квантовий комп'ютер використовує кубіти, які можуть бути одночасно і 0, і 1 завдяки квантовим властивостям.\\n\"\n",
    "    \"3. Це дозволяє квантовому комп'ютеру виконувати деякі обчислення набагато швидше.\\n\"\n",
    "    \"Тепер поясни це простою мовою.\"\n",
    ")\n",
    "\n",
    "# Функція для отримання відповіді\n",
    "def get_response(prompt):\n",
    "    response = client.chat.completions.create(\n",
    "        model=\"gpt-3.5-turbo\",\n",
    "        messages=[\n",
    "            {\"role\": \"user\", \"content\": prompt}\n",
    "        ],\n",
    "        temperature=0.7\n",
    "    )\n",
    "    return response.choices[0].message.content\n"
   ]
  },
  {
   "cell_type": "code",
   "execution_count": 3,
   "id": "04990d03",
   "metadata": {},
   "outputs": [
    {
     "name": "stdout",
     "output_type": "stream",
     "text": [
      "Zero-shot:\n",
      " Квантовий комп'ютер - це новий тип комп'ютера, який використовує квантові біти (або кубіти) замість класичних бітів для обробки інформації. Квантові біти можуть бути у стані 0, 1 або будь-якому суперпозиції цих станів одночасно, завдяки принципам квантової механіки. Це дозволяє квантовому комп'ютеру виконувати обчислення набагато швидше, ніж класичний комп'ютер, і вирішувати складні задачі, які для звичайних комп'ютерів займали б величезну кількість часу.\n",
      "\n",
      "Few-shot:\n",
      " Квантовий комп'ютер - це тип комп'ютера, який використовує принципи квантової механіки для обробки інформації. У звичайних комп'ютерах інформація кодується у вигляді бітів, які можуть бути 0 або 1. А в квантових комп'ютерах використовуються квантові біти або кубіти, які можуть бути одночасно 0 і 1, завдяки якому можна обробляти великі обсяги даних швидше і ефективніше.\n",
      "\n",
      "Chain-of-thought:\n",
      " Звичайний комп'ютер працює з бітами, які можуть бути або 0, або 1. Квантовий комп'ютер використовує кубіти, які можуть бути як 0, так і 1 одночасно. Це дозволяє йому виконувати обчислення швидше, оскільки кубіти можуть працювати паралельно. Тобто, квантовий комп'ютер може обробляти велику кількість інформації швидше, ніж звичайний комп'ютер.\n"
     ]
    }
   ],
   "source": [
    "# Отримання відповідей\n",
    "zero_shot_response = get_response(zero_shot_prompt)\n",
    "few_shot_response = get_response(few_shot_prompt)\n",
    "chain_of_thought_response = get_response(chain_of_thought_prompt)\n",
    "\n",
    "# Виведення результатів\n",
    "print(\"Zero-shot:\\n\", zero_shot_response)\n",
    "print(\"\\nFew-shot:\\n\", few_shot_response)\n",
    "print(\"\\nChain-of-thought:\\n\", chain_of_thought_response)"
   ]
  },
  {
   "cell_type": "code",
   "execution_count": null,
   "id": "10914180",
   "metadata": {},
   "outputs": [],
   "source": []
  }
 ],
 "metadata": {
  "kernelspec": {
   "display_name": "Python 3 (ipykernel)",
   "language": "python",
   "name": "python3"
  },
  "language_info": {
   "codemirror_mode": {
    "name": "ipython",
    "version": 3
   },
   "file_extension": ".py",
   "mimetype": "text/x-python",
   "name": "python",
   "nbconvert_exporter": "python",
   "pygments_lexer": "ipython3",
   "version": "3.11.5"
  }
 },
 "nbformat": 4,
 "nbformat_minor": 5
}
