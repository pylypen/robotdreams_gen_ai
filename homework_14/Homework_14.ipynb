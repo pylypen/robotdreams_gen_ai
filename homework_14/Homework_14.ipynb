{
 "cells": [
  {
   "cell_type": "code",
   "execution_count": 2,
   "id": "fa9fd8ef",
   "metadata": {},
   "outputs": [],
   "source": [
    "import sacrebleu\n",
    "from rouge_score import rouge_scorer\n",
    "\n",
    "def evaluate_bleu(predictions, references):\n",
    "    return sacrebleu.corpus_bleu(predictions, [references]).score\n",
    "\n",
    "def evaluate_rouge(predictions, references):\n",
    "    scorer = rouge_scorer.RougeScorer(['rouge1', 'rougeL'], use_stemmer=True)\n",
    "    scores = [scorer.score(ref, pred) for pred, ref in zip(predictions, references)]\n",
    "    return scores\n",
    "\n",
    "def load_texts(pred_file, ref_file):\n",
    "    with open(pred_file) as f: preds = f.readlines()\n",
    "    with open(ref_file) as f: refs = f.readlines()\n",
    "    return [p.strip() for p in preds], [r.strip() for r in refs]"
   ]
  },
  {
   "cell_type": "code",
   "execution_count": 3,
   "id": "5d313a8d",
   "metadata": {},
   "outputs": [
    {
     "name": "stdout",
     "output_type": "stream",
     "text": [
      "BLEU: 0.8063500054657476\n",
      "ROUGE: [{'rouge1': Score(precision=0.7916666666666666, recall=0.15966386554621848, fmeasure=0.26573426573426573), 'rougeL': Score(precision=0.4583333333333333, recall=0.09243697478991597, fmeasure=0.15384615384615385)}]\n"
     ]
    }
   ],
   "source": [
    "preds, refs = load_texts(\"data/generated_texts.txt\", \"data/reference_texts.txt\")\n",
    "print(\"BLEU:\", evaluate_bleu(preds, refs))\n",
    "print(\"ROUGE:\", evaluate_rouge(preds, refs))\n"
   ]
  },
  {
   "cell_type": "code",
   "execution_count": null,
   "id": "af33fb15",
   "metadata": {},
   "outputs": [],
   "source": []
  }
 ],
 "metadata": {
  "kernelspec": {
   "display_name": "Python 3 (ipykernel)",
   "language": "python",
   "name": "python3"
  },
  "language_info": {
   "codemirror_mode": {
    "name": "ipython",
    "version": 3
   },
   "file_extension": ".py",
   "mimetype": "text/x-python",
   "name": "python",
   "nbconvert_exporter": "python",
   "pygments_lexer": "ipython3",
   "version": "3.11.5"
  }
 },
 "nbformat": 4,
 "nbformat_minor": 5
}
