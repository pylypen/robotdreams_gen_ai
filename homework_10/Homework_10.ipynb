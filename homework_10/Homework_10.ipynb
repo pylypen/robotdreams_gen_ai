{
 "cells": [
  {
   "cell_type": "code",
   "execution_count": 1,
   "id": "47782da7",
   "metadata": {
    "scrolled": false
   },
   "outputs": [
    {
     "name": "stdout",
     "output_type": "stream",
     "text": [
      "Requirement already satisfied: transformers in c:\\users\\pylyp\\anaconda3\\lib\\site-packages (4.51.3)\n",
      "Requirement already satisfied: accelerate in c:\\users\\pylyp\\anaconda3\\lib\\site-packages (1.6.0)\n",
      "Requirement already satisfied: safetensors in c:\\users\\pylyp\\anaconda3\\lib\\site-packages (0.5.3)\n",
      "Requirement already satisfied: diffusers[torch] in c:\\users\\pylyp\\anaconda3\\lib\\site-packages (0.33.1)\n",
      "Requirement already satisfied: importlib-metadata in c:\\users\\pylyp\\anaconda3\\lib\\site-packages (from diffusers[torch]) (6.0.0)\n",
      "Requirement already satisfied: filelock in c:\\users\\pylyp\\anaconda3\\lib\\site-packages (from diffusers[torch]) (3.9.0)\n",
      "Requirement already satisfied: huggingface-hub>=0.27.0 in c:\\users\\pylyp\\anaconda3\\lib\\site-packages (from diffusers[torch]) (0.30.2)\n",
      "Requirement already satisfied: numpy in c:\\users\\pylyp\\anaconda3\\lib\\site-packages (from diffusers[torch]) (1.24.3)\n",
      "Requirement already satisfied: regex!=2019.12.17 in c:\\users\\pylyp\\anaconda3\\lib\\site-packages (from diffusers[torch]) (2022.7.9)\n",
      "Requirement already satisfied: requests in c:\\users\\pylyp\\anaconda3\\lib\\site-packages (from diffusers[torch]) (2.31.0)\n",
      "Requirement already satisfied: Pillow in c:\\users\\pylyp\\anaconda3\\lib\\site-packages (from diffusers[torch]) (10.0.1)\n",
      "Requirement already satisfied: torch>=1.4 in c:\\users\\pylyp\\anaconda3\\lib\\site-packages (from diffusers[torch]) (2.1.2)\n",
      "Requirement already satisfied: packaging>=20.0 in c:\\users\\pylyp\\anaconda3\\lib\\site-packages (from transformers) (24.2)\n",
      "Requirement already satisfied: pyyaml>=5.1 in c:\\users\\pylyp\\anaconda3\\lib\\site-packages (from transformers) (6.0)\n",
      "Requirement already satisfied: tokenizers<0.22,>=0.21 in c:\\users\\pylyp\\anaconda3\\lib\\site-packages (from transformers) (0.21.1)\n",
      "Requirement already satisfied: tqdm>=4.27 in c:\\users\\pylyp\\anaconda3\\lib\\site-packages (from transformers) (4.65.0)\n",
      "Requirement already satisfied: psutil in c:\\users\\pylyp\\anaconda3\\lib\\site-packages (from accelerate) (5.9.0)\n",
      "Requirement already satisfied: fsspec>=2023.5.0 in c:\\users\\pylyp\\anaconda3\\lib\\site-packages (from huggingface-hub>=0.27.0->diffusers[torch]) (2025.3.2)\n",
      "Requirement already satisfied: typing-extensions>=3.7.4.3 in c:\\users\\pylyp\\anaconda3\\lib\\site-packages (from huggingface-hub>=0.27.0->diffusers[torch]) (4.5.0)\n",
      "Requirement already satisfied: sympy in c:\\users\\pylyp\\anaconda3\\lib\\site-packages (from torch>=1.4->diffusers[torch]) (1.11.1)\n",
      "Requirement already satisfied: networkx in c:\\users\\pylyp\\anaconda3\\lib\\site-packages (from torch>=1.4->diffusers[torch]) (3.1)\n",
      "Requirement already satisfied: jinja2 in c:\\users\\pylyp\\anaconda3\\lib\\site-packages (from torch>=1.4->diffusers[torch]) (3.1.2)\n",
      "Requirement already satisfied: colorama in c:\\users\\pylyp\\anaconda3\\lib\\site-packages (from tqdm>=4.27->transformers) (0.4.6)\n",
      "Requirement already satisfied: zipp>=0.5 in c:\\users\\pylyp\\anaconda3\\lib\\site-packages (from importlib-metadata->diffusers[torch]) (3.11.0)\n",
      "Requirement already satisfied: charset-normalizer<4,>=2 in c:\\users\\pylyp\\anaconda3\\lib\\site-packages (from requests->diffusers[torch]) (2.0.4)\n",
      "Requirement already satisfied: idna<4,>=2.5 in c:\\users\\pylyp\\anaconda3\\lib\\site-packages (from requests->diffusers[torch]) (3.4)\n",
      "Requirement already satisfied: urllib3<3,>=1.21.1 in c:\\users\\pylyp\\anaconda3\\lib\\site-packages (from requests->diffusers[torch]) (1.26.16)\n",
      "Requirement already satisfied: certifi>=2017.4.17 in c:\\users\\pylyp\\anaconda3\\lib\\site-packages (from requests->diffusers[torch]) (2023.11.17)\n",
      "Requirement already satisfied: MarkupSafe>=2.0 in c:\\users\\pylyp\\anaconda3\\lib\\site-packages (from jinja2->torch>=1.4->diffusers[torch]) (2.1.1)\n",
      "Requirement already satisfied: mpmath>=0.19 in c:\\users\\pylyp\\anaconda3\\lib\\site-packages (from sympy->torch>=1.4->diffusers[torch]) (1.3.0)\n"
     ]
    }
   ],
   "source": [
    "!pip install diffusers[torch] transformers accelerate safetensors"
   ]
  },
  {
   "cell_type": "code",
   "execution_count": 2,
   "id": "9da42d40",
   "metadata": {},
   "outputs": [
    {
     "data": {
      "application/vnd.jupyter.widget-view+json": {
       "model_id": "32273856f26b428fb98f69f48ec53486",
       "version_major": 2,
       "version_minor": 0
      },
      "text/plain": [
       "Loading pipeline components...:   0%|          | 0/7 [00:00<?, ?it/s]"
      ]
     },
     "metadata": {},
     "output_type": "display_data"
    },
    {
     "name": "stdout",
     "output_type": "stream",
     "text": [
      "[1/3] Generating: Cyberpunk street at night with glowing lights and futuristic buildings\n"
     ]
    },
    {
     "data": {
      "application/vnd.jupyter.widget-view+json": {
       "model_id": "63cfaf7486b1411dba5d4d43442900c6",
       "version_major": 2,
       "version_minor": 0
      },
      "text/plain": [
       "  0%|          | 0/50 [00:00<?, ?it/s]"
      ]
     },
     "metadata": {},
     "output_type": "display_data"
    },
    {
     "name": "stdout",
     "output_type": "stream",
     "text": [
      "[2/3] Generating: A futuristic cyberpunk street at night inspired by Deus Ex: Human Revolution, with golden ambient lighting, neon signs, holograms, and tall buildings covered in reflective glass and metal\n"
     ]
    },
    {
     "data": {
      "application/vnd.jupyter.widget-view+json": {
       "model_id": "6f5c776bf5f54d45b783f0bfec09f15d",
       "version_major": 2,
       "version_minor": 0
      },
      "text/plain": [
       "  0%|          | 0/50 [00:00<?, ?it/s]"
      ]
     },
     "metadata": {},
     "output_type": "display_data"
    },
    {
     "name": "stdout",
     "output_type": "stream",
     "text": [
      "[3/3] Generating: A cyberpunk scene in the style of Deus Ex: Human Revolution, featuring a lone augmented agent walking through a dystopian city illuminated by golden neon lights, foggy streets, tall illuminated towers, and oppressive megacorporation advertisements in the background\n"
     ]
    },
    {
     "data": {
      "application/vnd.jupyter.widget-view+json": {
       "model_id": "a515101387bc4824862380268e3e6461",
       "version_major": 2,
       "version_minor": 0
      },
      "text/plain": [
       "  0%|          | 0/50 [00:00<?, ?it/s]"
      ]
     },
     "metadata": {},
     "output_type": "display_data"
    }
   ],
   "source": [
    "from diffusers import StableDiffusionPipeline\n",
    "\n",
    "# Load the model\n",
    "pipe = StableDiffusionPipeline.from_pretrained(\"CompVis/stable-diffusion-v1-4\")\n",
    "\n",
    "# 🖋️ Промпти\n",
    "prompts = [\n",
    "    \"Cyberpunk street at night with glowing lights and futuristic buildings\",\n",
    "    \"A futuristic cyberpunk street at night inspired by Deus Ex: Human Revolution, with golden ambient lighting, neon signs, holograms, and tall buildings covered in reflective glass and metal\",\n",
    "    \"A cyberpunk scene in the style of Deus Ex: Human Revolution, featuring a lone augmented agent walking through a dystopian city illuminated by golden neon lights, foggy streets, tall illuminated towers, and oppressive megacorporation advertisements in the background\"\n",
    "]\n",
    "\n",
    "# 🎨 Генерація\n",
    "for i, prompt in enumerate(prompts):\n",
    "    print(f\"[{i+1}/{len(prompts)}] Generating: {prompt}\")\n",
    "    image = pipe(prompt, guidance_scale=7.5).images[0]\n",
    "    image.save(f\"generated_homework10_sd_{i+1}.png\")\n"
   ]
  },
  {
   "cell_type": "code",
   "execution_count": null,
   "id": "e2c0fa9d",
   "metadata": {},
   "outputs": [],
   "source": []
  }
 ],
 "metadata": {
  "kernelspec": {
   "display_name": "Python 3 (ipykernel)",
   "language": "python",
   "name": "python3"
  },
  "language_info": {
   "codemirror_mode": {
    "name": "ipython",
    "version": 3
   },
   "file_extension": ".py",
   "mimetype": "text/x-python",
   "name": "python",
   "nbconvert_exporter": "python",
   "pygments_lexer": "ipython3",
   "version": "3.11.5"
  }
 },
 "nbformat": 4,
 "nbformat_minor": 5
}
