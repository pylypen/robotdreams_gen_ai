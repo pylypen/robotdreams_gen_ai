{
 "cells": [
  {
   "cell_type": "code",
   "execution_count": 1,
   "id": "549244bb",
   "metadata": {},
   "outputs": [
    {
     "name": "stdout",
     "output_type": "stream",
     "text": [
      "{'USD': '41.5945', 'EUR': '47.0808', 'GBP': '55.4247'}\n"
     ]
    },
    {
     "name": "stderr",
     "output_type": "stream",
     "text": [
      "C:\\Users\\pylyp\\AppData\\Local\\Temp\\ipykernel_4536\\1966506576.py:18: DeprecationWarning: The 'text' argument to find()-type methods is deprecated. Use 'string' instead.\n",
      "  rate_element = soup.find(\"td\", text=currency)\n"
     ]
    }
   ],
   "source": [
    "# First prompt:\n",
    "# Scrape current exchange rates (USD, EUR, GBP) from the National Bank of Ukraine website\n",
    "import requests\n",
    "from bs4 import BeautifulSoup\n",
    "\n",
    "# URL of the National Bank of Ukraine exchange rates page\n",
    "url = \"https://bank.gov.ua/en/markets/exchangerates\"\n",
    "\n",
    "# Send a request to fetch the page content\n",
    "response = requests.get(url)\n",
    "soup = BeautifulSoup(response.text, \"html.parser\")\n",
    "\n",
    "# Extract exchange rates for USD, EUR, and GBP\n",
    "currencies = [\"USD\", \"EUR\", \"GBP\"]\n",
    "exchange_rates = {}\n",
    "\n",
    "for currency in currencies:\n",
    "    rate_element = soup.find(\"td\", text=currency)\n",
    "    if rate_element:\n",
    "        exchange_rates[currency] = rate_element.find_next_sibling(\"td\").find_next_sibling(\"td\").find_next_sibling(\"td\").text\n",
    "\n",
    "# Print the extracted exchange rates\n",
    "print(exchange_rates)"
   ]
  },
  {
   "cell_type": "code",
   "execution_count": 2,
   "id": "25436afe",
   "metadata": {},
   "outputs": [
    {
     "name": "stderr",
     "output_type": "stream",
     "text": [
      "C:\\Users\\pylyp\\AppData\\Local\\Temp\\ipykernel_4536\\3782936522.py:18: DeprecationWarning: The 'text' argument to find()-type methods is deprecated. Use 'string' instead.\n",
      "  rate_element = soup.find(\"td\", text=currency)\n"
     ]
    },
    {
     "name": "stdout",
     "output_type": "stream",
     "text": [
      "Exchange rates saved to exchange_rates.txt\n"
     ]
    }
   ],
   "source": [
    "# Cecond prompt: \n",
    "# Scrape current exchange rates (USD, EUR, GBP) from the National Bank of Ukraine website and save them to a text file\n",
    "import requests\n",
    "from bs4 import BeautifulSoup\n",
    "\n",
    "# URL of the National Bank of Ukraine exchange rates page\n",
    "url = \"https://bank.gov.ua/en/markets/exchangerates\"\n",
    "\n",
    "# Send a request to fetch the page content\n",
    "response = requests.get(url)\n",
    "soup = BeautifulSoup(response.text, \"html.parser\")\n",
    "\n",
    "# Extract exchange rates for USD, EUR, and GBP\n",
    "currencies = [\"USD\", \"EUR\", \"GBP\"]\n",
    "exchange_rates = {}\n",
    "\n",
    "for currency in currencies:\n",
    "    rate_element = soup.find(\"td\", text=currency)\n",
    "    if rate_element:\n",
    "        exchange_rates[currency] = rate_element.find_next_sibling(\"td\").find_next_sibling(\"td\").find_next_sibling(\"td\").text.strip()\n",
    "\n",
    "# Save exchange rates to a text file\n",
    "with open(\"exchange_rates.txt\", \"w\") as file:\n",
    "    for currency, rate in exchange_rates.items():\n",
    "        file.write(f\"{currency}: {rate}\\n\")\n",
    "\n",
    "print(\"Exchange rates saved to exchange_rates.txt\")"
   ]
  },
  {
   "cell_type": "code",
   "execution_count": 3,
   "id": "4a559ce8",
   "metadata": {},
   "outputs": [
    {
     "name": "stdout",
     "output_type": "stream",
     "text": [
      "['USD: 41.5945']\n",
      "['EUR: 47.0808']\n",
      "['GBP: 55.4247']\n"
     ]
    }
   ],
   "source": [
    "import csv\n",
    "\n",
    "csv_filename = \"exchange_rates.txt\"\n",
    "\n",
    "# Open and read the CSV file\n",
    "with open(csv_filename, \"r\") as file:\n",
    "    reader = csv.reader(file)\n",
    "    for row in reader:\n",
    "        print(row)"
   ]
  },
  {
   "cell_type": "code",
   "execution_count": 4,
   "id": "9d19aec5",
   "metadata": {},
   "outputs": [
    {
     "name": "stdout",
     "output_type": "stream",
     "text": [
      "Exchange rates saved to exchange_rates.csv\n"
     ]
    },
    {
     "name": "stderr",
     "output_type": "stream",
     "text": [
      "C:\\Users\\pylyp\\AppData\\Local\\Temp\\ipykernel_4536\\3208071815.py:20: DeprecationWarning: The 'text' argument to find()-type methods is deprecated. Use 'string' instead.\n",
      "  rate_element = soup.find(\"td\", text=currency)\n"
     ]
    }
   ],
   "source": [
    "# Third prompt:\n",
    "# Scrape current exchange rates (USD, EUR, GBP) from the National Bank of Ukraine website and save them to a text file\n",
    "import requests\n",
    "from bs4 import BeautifulSoup\n",
    "import csv\n",
    "from datetime import datetime\n",
    "\n",
    "# URL of the National Bank of Ukraine exchange rates page\n",
    "url = \"https://bank.gov.ua/en/markets/exchangerates\"\n",
    "\n",
    "# Send a request to fetch the page content\n",
    "response = requests.get(url)\n",
    "soup = BeautifulSoup(response.text, \"html.parser\")\n",
    "\n",
    "# Extract exchange rates for USD, EUR, and GBP\n",
    "currencies = [\"USD\", \"EUR\", \"GBP\"]\n",
    "exchange_rates = {}\n",
    "\n",
    "for currency in currencies:\n",
    "    rate_element = soup.find(\"td\", text=currency)\n",
    "    if rate_element:\n",
    "        exchange_rates[currency] = rate_element.find_next_sibling(\"td\").find_next_sibling(\"td\").find_next_sibling(\"td\").text.strip()\n",
    "\n",
    "# Get current timestamp\n",
    "timestamp = datetime.now().strftime(\"%Y-%m-%d %H:%M:%S\")\n",
    "\n",
    "# Save exchange rates to a CSV file\n",
    "csv_filename = \"exchange_rates.csv\"\n",
    "with open(csv_filename, \"w\", newline=\"\") as file:\n",
    "    writer = csv.writer(file)\n",
    "    writer.writerow([\"Timestamp\", \"Currency\", \"Rate\"])\n",
    "    for currency, rate in exchange_rates.items():\n",
    "        writer.writerow([timestamp, currency, rate])\n",
    "\n",
    "print(f\"Exchange rates saved to {csv_filename}\")"
   ]
  },
  {
   "cell_type": "code",
   "execution_count": 5,
   "id": "4425954e",
   "metadata": {},
   "outputs": [
    {
     "name": "stdout",
     "output_type": "stream",
     "text": [
      "['Timestamp', 'Currency', 'Rate']\n",
      "['2025-05-04 21:01:09', 'USD', '41.5945']\n",
      "['2025-05-04 21:01:09', 'EUR', '47.0808']\n",
      "['2025-05-04 21:01:09', 'GBP', '55.4247']\n"
     ]
    }
   ],
   "source": [
    "import csv\n",
    "\n",
    "csv_filename = \"exchange_rates.csv\"\n",
    "\n",
    "# Open and read the CSV file\n",
    "with open(csv_filename, \"r\") as file:\n",
    "    reader = csv.reader(file)\n",
    "    for row in reader:\n",
    "        print(row)\n"
   ]
  },
  {
   "cell_type": "code",
   "execution_count": 6,
   "id": "eddb504c",
   "metadata": {},
   "outputs": [
    {
     "name": "stdout",
     "output_type": "stream",
     "text": [
      "GBP -> 55.4247 UAH (on 03.05.2025)\n",
      "USD -> 41.5945 UAH (on 03.05.2025)\n",
      "EUR -> 47.0808 UAH (on 03.05.2025)\n"
     ]
    }
   ],
   "source": [
    "# Bonus: code generated with ChatGPT\n",
    "import requests\n",
    "from datetime import datetime, timedelta\n",
    "\n",
    "# Використовуємо вчорашню дату\n",
    "yesterday = datetime.now() - timedelta(days=1)\n",
    "date_str = yesterday.strftime('%Y%m%d')\n",
    "\n",
    "# Запит до API НБУ\n",
    "url = f\"https://bank.gov.ua/NBUStatService/v1/statdirectory/exchange?valcode=&date={date_str}&json\"\n",
    "\n",
    "response = requests.get(url)\n",
    "if response.status_code == 200:\n",
    "    data = response.json()\n",
    "\n",
    "    # Виводимо лише потрібні валюти\n",
    "    needed = ['USD', 'EUR', 'GBP']\n",
    "    filtered = [item for item in data if item['cc'] in needed]\n",
    "\n",
    "    if filtered:\n",
    "        for item in filtered:\n",
    "            print(f\"{item['cc']} -> {item['rate']} UAH (on {item['exchangedate']})\")\n",
    "    else:\n",
    "        print(\"No matching currencies found in response.\")\n",
    "else:\n",
    "    print(f\"Error: {response.status_code}\")\n"
   ]
  },
  {
   "cell_type": "code",
   "execution_count": null,
   "id": "0e8fabbf",
   "metadata": {},
   "outputs": [],
   "source": []
  }
 ],
 "metadata": {
  "kernelspec": {
   "display_name": "Python 3 (ipykernel)",
   "language": "python",
   "name": "python3"
  },
  "language_info": {
   "codemirror_mode": {
    "name": "ipython",
    "version": 3
   },
   "file_extension": ".py",
   "mimetype": "text/x-python",
   "name": "python",
   "nbconvert_exporter": "python",
   "pygments_lexer": "ipython3",
   "version": "3.11.5"
  }
 },
 "nbformat": 4,
 "nbformat_minor": 5
}
